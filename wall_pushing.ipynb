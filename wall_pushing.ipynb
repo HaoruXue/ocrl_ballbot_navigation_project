{
 "cells": [
  {
   "cell_type": "markdown",
   "metadata": {},
   "source": [
    "# Ballbot Wall Pushing Task"
   ]
  },
  {
   "cell_type": "code",
   "execution_count": 1,
   "metadata": {},
   "outputs": [
    {
     "name": "stderr",
     "output_type": "stream",
     "text": [
      "\u001b[32m\u001b[1m  Activating\u001b[22m\u001b[39m environment at `~/Documents/PhD/courses/16745_optimal_control_rl/project/ballbot_ocrl_navigation/Project.toml`\n"
     ]
    }
   ],
   "source": [
    "import Pkg; \n",
    "Pkg.activate(@__DIR__); \n",
    "Pkg.instantiate()"
   ]
  },
  {
   "cell_type": "code",
   "execution_count": 2,
   "metadata": {},
   "outputs": [
    {
     "data": {
      "application/vnd.webio.node+json": {
       "children": [],
       "instanceArgs": {
        "namespace": "html",
        "tag": "div"
       },
       "nodeType": "DOM",
       "props": {},
       "type": "node"
      },
      "text/html": [
       "<div style=\"padding: 1em; background-color: #f8d6da; border: 1px solid #f5c6cb; font-weight: bold;\">\n",
       "<p>The WebIO Jupyter extension was not detected. See the\n",
       "<a href=\"https://juliagizmos.github.io/WebIO.jl/latest/providers/ijulia/\" target=\"_blank\">\n",
       "    WebIO Jupyter integration documentation\n",
       "</a>\n",
       "for more information.\n",
       "</div>\n"
      ],
      "text/plain": [
       "WebIO._IJuliaInit()"
      ]
     },
     "metadata": {},
     "output_type": "display_data"
    }
   ],
   "source": [
    "using RigidBodyDynamics\n",
    "using LinearAlgebra\n",
    "using StaticArrays\n",
    "using MeshCat\n",
    "using MeshCatMechanisms\n",
    "using ForwardDiff\n",
    "using Plots\n",
    "using RobotDynamics\n",
    "using Ipopt\n",
    "using GeometryBasics: HyperRectangle, Vec\n",
    "\n",
    "import ECOS\n",
    "import Convex as cvx\n",
    "import MathOptInterface as MOI\n",
    "using FileIO, JLD2;\n",
    "\n",
    "import MeshCat as mc"
   ]
  },
  {
   "cell_type": "code",
   "execution_count": 3,
   "metadata": {},
   "outputs": [
    {
     "data": {
      "text/plain": [
       "rk4 (generic function with 1 method)"
      ]
     },
     "execution_count": 3,
     "metadata": {},
     "output_type": "execute_result"
    }
   ],
   "source": [
    "include(joinpath(@__DIR__, \"utils\",\"fmincon.jl\"))\n",
    "include(joinpath(@__DIR__, \"utils\",\"ballbot_model.jl\"))"
   ]
  },
  {
   "cell_type": "markdown",
   "metadata": {},
   "source": [
    "Obtain a valid wall pushing pose"
   ]
  },
  {
   "cell_type": "code",
   "execution_count": 4,
   "metadata": {},
   "outputs": [
    {
     "data": {
      "text/plain": [
       "RigidBody: \"world\""
      ]
     },
     "execution_count": 4,
     "metadata": {},
     "output_type": "execute_result"
    }
   ],
   "source": [
    "bb_arms = Ballbot_arms()\n",
    "contact_state = MechanismState(bb_arms.mech)\n",
    "\n",
    "q = zeros(9)\n",
    "q[1] = -0.5 # move to a distance\n",
    "q[3] = -0.10 # lean forward\n",
    "q[6] = 0.785 # right shoulder\n",
    "q[7] = -0.785 # left shoulder\n",
    "q[8] = 1.5708 # right elbow 90 deg\n",
    "q[9] = -1.5708 # left elbow 90 deg\n",
    "RigidBodyDynamics.set_configuration!(contact_state, q)\n",
    "RigidBodyDynamics.set_velocity!(contact_state, zeros(9))\n",
    "world = RigidBodyDynamics.findbody(bb_arms.mech, \"world\")"
   ]
  },
  {
   "cell_type": "code",
   "execution_count": 5,
   "metadata": {},
   "outputs": [
    {
     "name": "stdout",
     "output_type": "stream",
     "text": [
      "r_end_eff_pos = Point3D in \"world\": [0.27577002126465655, 1.115338121461541, 1.3907916486581435]\n",
      "l_end_eff_pos = Point3D in \"world\": [-0.275769990284157, 1.1153381070021942, 1.3907916773182019]\n"
     ]
    },
    {
     "data": {
      "text/plain": [
       "Point3D in \"world\": [-0.275769990284157, 1.1153381070021942, 1.3907916773182019]"
      ]
     },
     "execution_count": 5,
     "metadata": {},
     "output_type": "execute_result"
    }
   ],
   "source": [
    "right_end = RigidBodyDynamics.findbody(bb_arms.mech, \"RArm4\")\n",
    "right_end_tf = RigidBodyDynamics.frame_definitions(right_end)[end].from\n",
    "r_end_eff_pos = transform(contact_state, Point3D(right_end_tf, zero(SVector{3})), default_frame(world))\n",
    "\n",
    "left_end = RigidBodyDynamics.findbody(bb_arms.mech, \"LArm4\")\n",
    "left_end_tf = RigidBodyDynamics.frame_definitions(left_end)[end].from\n",
    "l_end_eff_pos = transform(contact_state, Point3D(left_end_tf, zero(SVector{3})), default_frame(world))\n",
    "\n",
    "@show r_end_eff_pos\n",
    "@show l_end_eff_pos"
   ]
  },
  {
   "cell_type": "markdown",
   "metadata": {},
   "source": [
    "Visualize what a wall pushing pose looks like"
   ]
  },
  {
   "cell_type": "code",
   "execution_count": 6,
   "metadata": {},
   "outputs": [],
   "source": [
    "state = MechanismState(bb_arms.mech)\n",
    "RigidBodyDynamics.set_configuration!(state, q)\n",
    "RigidBodyDynamics.set_velocity!(state, zeros(9))\n",
    "ts, qs, vs = simulate(state, 0.1, Δt = 1e-2);"
   ]
  },
  {
   "cell_type": "code",
   "execution_count": 7,
   "metadata": {},
   "outputs": [
    {
     "name": "stderr",
     "output_type": "stream",
     "text": [
      "\u001b[36m\u001b[1m┌ \u001b[22m\u001b[39m\u001b[36m\u001b[1mInfo: \u001b[22m\u001b[39mMeshCat server started. You can open the visualizer by visiting the following URL in your browser:\n",
      "\u001b[36m\u001b[1m└ \u001b[22m\u001b[39mhttp://127.0.0.1:8703\n"
     ]
    },
    {
     "data": {
      "text/html": [
       "    <div style=\"height: 500px; width: 100%; overflow-x: auto; overflow-y: hidden; resize: both\">\n",
       "    <iframe src=\"http://127.0.0.1:8703\" style=\"width: 100%; height: 100%; border: none\"></iframe>\n",
       "    </div>\n"
      ],
      "text/plain": [
       "MeshCat.DisplayedVisualizer(MeshCat.CoreVisualizer(MeshCat.SceneTrees.SceneNode(nothing, nothing, Dict{String, Vector{UInt8}}(), nothing, Dict{String, MeshCat.SceneTrees.SceneNode}()), Set{Any}(), ip\"127.0.0.1\", 8703))"
      ]
     },
     "metadata": {},
     "output_type": "display_data"
    },
    {
     "data": {
      "text/plain": [
       "MeshCat Visualizer with path /meshcat/wall at http://127.0.0.1:8703"
      ]
     },
     "execution_count": 7,
     "metadata": {},
     "output_type": "execute_result"
    }
   ],
   "source": [
    "vis = Visualizer()\n",
    "display(render(vis))\n",
    "mvis = MechanismVisualizer(bb_arms.mech, URDFVisuals(urdf_arms), vis[\"test\"])\n",
    "box = HyperRectangle(Vec(-2.5, r_end_eff_pos.v[2], 0), Vec(5., 0.1, 5))\n",
    "setobject!(vis[\"wall\"], box)"
   ]
  },
  {
   "cell_type": "code",
   "execution_count": 8,
   "metadata": {},
   "outputs": [],
   "source": [
    "MeshCatMechanisms.animate(mvis, ts, qs; realtimerate = 0.1);"
   ]
  },
  {
   "cell_type": "markdown",
   "metadata": {},
   "source": [
    "## Trajectory Optimization for Wall Pushing\n",
    "\n",
    "We use DIRCOL to find a feasible wall-pushing trajectory."
   ]
  },
  {
   "cell_type": "markdown",
   "metadata": {},
   "source": [
    "### Dynamics\n",
    "\n",
    "There are two kind of dynamics modes: contact and non contact.\n",
    "\n",
    "We schedule the following contact sequence:\n",
    "\n",
    "$$\n",
    "\\begin{align} \n",
    "\\mathcal{M}_1 &= \\{1\\text{:}20,31\\text{:}50\\} \\\\\n",
    "\\mathcal{M}_2 &= \\{21\\text{:}30\\}\n",
    "\\end{align}\n",
    "$$\n",
    "\n",
    "where $\\mathcal{M}_1$ contains the time steps when the BallBot is in free space, and $\\mathcal{M}_2$ contains the time steps when the BallBot is in contact with the wall. The jump map sets $\\mathcal{J}_1$ and $\\mathcal{J}_2$ are the indices where the mode of the next time step is different than the current, i.e. $\\mathcal{J}_i \\equiv \\{k+1 \\notin \\mathcal{M}_i \\; | \\; k \\in \\mathcal{M}_i\\}$. We can write these out explicitly as the following:\n",
    "\n",
    "$$\n",
    "\\begin{align} \n",
    "\\mathcal{J}_1 &= \\{20\\} \\\\\n",
    "\\mathcal{J}_2 &= \\{30\\}\n",
    "\\end{align}\n",
    "$$\n",
    "\n",
    "Both dynamics categories share the same dynamics function `ballbot_dynamics`. However, different ballbot models should be passed to it (generated from `Ballbot_arms()` for free space or `Ballbot_wall()` for when against the wall)."
   ]
  },
  {
   "cell_type": "code",
   "execution_count": 9,
   "metadata": {},
   "outputs": [
    {
     "data": {
      "text/plain": [
       "jump1_map (generic function with 1 method)"
      ]
     },
     "execution_count": 9,
     "metadata": {},
     "output_type": "execute_result"
    }
   ],
   "source": [
    "function ballbot_dynamics(model::Ballbot, x::AbstractVector{T1}, u::AbstractVector{T2}) where {T1,T2} \n",
    "    T = promote_type(T1,T2)\n",
    "    state = model.statecache[T]\n",
    "    res = model.dyncache[T]\n",
    "    ball_radius = 0.106\n",
    "    # Convert from state ordering to the ordering of the mechanism\n",
    "    copyto!(state, x)\n",
    "    τ = [u[1:2] ./ ball_radius; 0.0; 0.0; u[3:end]]\n",
    "        \n",
    "    dynamics!(res, state, τ)\n",
    "    q̇ = res.q̇\n",
    "    v̇ = res.v̇\n",
    "    return [q̇; v̇]\n",
    "end\n",
    "\n",
    "function jump1_map(x)\n",
    "    # elbows experiences inelastic collision\n",
    "    xn = [x[1:16]; 0.0; 0.0]\n",
    "    return xn\n",
    "end"
   ]
  },
  {
   "cell_type": "code",
   "execution_count": 10,
   "metadata": {},
   "outputs": [
    {
     "data": {
      "text/plain": [
       "ballbot_inequality_constraint (generic function with 1 method)"
      ]
     },
     "execution_count": 10,
     "metadata": {},
     "output_type": "execute_result"
    }
   ],
   "source": [
    "function create_idx(nx,nu,N) \n",
    "    # Our Z vector is [x0, u0, x1, u1, …, xN]\n",
    "    nz = (N-1) * nu + N * nx # length of Z \n",
    "    x = [(i - 1) * (nx + nu) .+ (1 : nx) for i = 1:N]\n",
    "    u = [(i - 1) * (nx + nu) .+ ((nx + 1):(nx + nu)) for i = 1:(N - 1)]\n",
    "    \n",
    "    # Constraint indexing for the (N-1) dynamics constraints when stacked up\n",
    "    c = [(i - 1) * (nx) .+ (1 : nx) for i = 1:(N - 1)]\n",
    "    nc = (N - 1) * nx # (N-1)*nx \n",
    "    return (nx=nx,nu=nu,N=N,nz=nz,nc=nc,x=x,u=u,c=c)\n",
    "end\n",
    "\n",
    "function hermite_simpson(params::NamedTuple, model1::Ballbot, model2::Ballbot, x1::Vector, x2::Vector, u, dt::Real)::Vector\n",
    "    # Input hermite simpson implicit integrator residual\n",
    "    f1 = ballbot_dynamics(model1, x1, u)\n",
    "    f2 = ballbot_dynamics(model2, x2, u)\n",
    "    xm = 0.5*(x1 + x2) + (dt/8.0)*(f1 - f2)\n",
    "    fm = ballbot_dynamics(model1, xm, u)\n",
    "    r = x1 + (dt/6.0)*(f1 + 4*fm + f2) - x2\n",
    "    return r\n",
    "end\n",
    "\n",
    "function rk4(params::NamedTuple, model::Ballbot, x::Vector, u, dt::Float64)\n",
    "    # Vanilla RK4\n",
    "    k1 = dt*ballbot_dynamics(model, x, u)\n",
    "    k2 = dt*ballbot_dynamics(model, x + k1/2, u)\n",
    "    k3 = dt*ballbot_dynamics(model, x + k2/2, u)\n",
    "    k4 = dt*ballbot_dynamics(model, x + k3, u)\n",
    "    x + (1/6)*(k1 + 2*k2 + 2*k3 + k4)\n",
    "end\n",
    "\n",
    "function stage_cost(params,x,u,k)\n",
    "    xref, uref = params.Xref, params.Uref\n",
    "    Q = params.Q\n",
    "    R = params.R\n",
    "    return 0.5*((x-xref[k])'*Q*(x-xref[k])) + 0.5*(u-uref[k])'*R*(u-uref[k])\n",
    "end\n",
    "\n",
    "function terminal_cost(params,x)\n",
    "    Qn = params.Qf\n",
    "    xref = params.Xref\n",
    "    return 0.5*((x-xref[end])'*Qn*(x-xref[end]))\n",
    "end\n",
    "\n",
    "function ballbot_cost(params::NamedTuple, Z::Vector)::Real\n",
    "    idx, N = params.idx, params.N \n",
    "    # Stage cost\n",
    "    J = 0 \n",
    "    for i = 1:(N-1)\n",
    "        xi = Z[idx.x[i]]\n",
    "        ui = Z[idx.u[i]]\n",
    "       \n",
    "        J += stage_cost(params, xi, ui, i)\n",
    "    end\n",
    "    # Terminal cost \n",
    "    xend = Z[idx.x[end]]\n",
    "    J += terminal_cost(params, xend)\n",
    "    return J \n",
    "end\n",
    "\n",
    "function ballbot_dynamics_constraints(params::NamedTuple, Z::Vector)::Vector\n",
    "    M1, M2 = params.M1, params.M2\n",
    "    J1, J2 = params.J1, params.J2\n",
    "    idx, N, dt = params.idx, params.N, params.dt\n",
    "    model1, model2 = params.model1, params.model2\n",
    "\n",
    "    c = zeros(eltype(Z), idx.nc)\n",
    "    for i = 1:(N-1)\n",
    "        xi = Z[idx.x[i]]\n",
    "        ui = Z[idx.u[i]] \n",
    "        xip1 = Z[idx.x[i+1]]\n",
    "        # Apply hermite simpson\n",
    "        if (i in J1)\n",
    "            c[idx.c[i]] .= xip1 - jump1_map(rk4(params, model1, xi, ui, dt))\n",
    "        elseif (i in J2)\n",
    "            c[idx.c[i]] .= xip1 - rk4(params, model2, xi, ui, dt)\n",
    "        elseif (i in M1) && !(i in J1)\n",
    "            c[idx.c[i]] .= xip1 - rk4(params, model1, xi, ui, dt)\n",
    "        elseif (i in M2) && !(i in J2)\n",
    "            c[idx.c[i]] .= xip1 - rk4(params, model2, xi, ui, dt)\n",
    "        end\n",
    "    end\n",
    "    return c\n",
    "end\n",
    "\n",
    "function ballbot_equality_constraint(params::NamedTuple, Z::Vector)::Vector\n",
    "    M1, M2 = params.M1, params.M2\n",
    "    J1, J2 = params.J1, params.J2\n",
    "    idx, N = params.idx, params.N \n",
    "    xg = params.xg\n",
    "    xic = params.xic\n",
    "    xcgs = params.xcgs # contact goal constraint\n",
    "    # Return all of the equality constraint\n",
    "    c_dynamics = ballbot_dynamics_constraints(params, Z)\n",
    "    c_contact = zeros(eltype(Z), length(xcgs) * 9)\n",
    "    for i=1:length(xcgs)\n",
    "        i_start = (i-1) * 9 + 1\n",
    "        i_end = i * 9\n",
    "        c_contact[i_start:i_end] = Z[idx.x[J1[i]][1:9]] - xcgs[i]\n",
    "    end\n",
    "    c = [c_dynamics; Z[idx.x[1]] - xic; Z[idx.x[N]] - xg; c_contact]\n",
    "    return c\n",
    "end\n",
    "\n",
    "function ballbot_inequality_constraint(params, Z)\n",
    "    return zeros(eltype(Z), 0)\n",
    "end"
   ]
  },
  {
   "cell_type": "code",
   "execution_count": 11,
   "metadata": {},
   "outputs": [
    {
     "name": "stdout",
     "output_type": "stream",
     "text": [
      "---------checking dimensions of everything----------\n",
      "---------all dimensions good------------------------\n",
      "---------diff type set to :auto (ForwardDiff.jl)----\n",
      "---------testing objective gradient-----------------\n",
      "---------testing constraint Jacobian----------------\n",
      "---------successfully compiled both derivatives-----\n",
      "---------IPOPT beginning solve----------------------\n",
      "\n",
      "******************************************************************************\n",
      "This program contains Ipopt, a library for large-scale nonlinear optimization.\n",
      " Ipopt is released as open source code under the Eclipse Public License (EPL).\n",
      "         For more information visit https://github.com/coin-or/Ipopt\n",
      "******************************************************************************\n",
      "\n",
      "This is Ipopt version 3.14.4, running with linear solver MUMPS 5.4.1.\n",
      "\n",
      "Number of nonzeros in equality constraint Jacobian...:   190791\n",
      "Number of nonzeros in inequality constraint Jacobian.:        0\n",
      "Number of nonzeros in Lagrangian Hessian.............:        0\n",
      "\n",
      "Total number of variables............................:      493\n",
      "                     variables with only lower bounds:        0\n",
      "                variables with lower and upper bounds:      493\n",
      "                     variables with only upper bounds:        0\n",
      "Total number of equality constraints.................:      387\n",
      "Total number of inequality constraints...............:        0\n",
      "        inequality constraints with only lower bounds:        0\n",
      "   inequality constraints with lower and upper bounds:        0\n",
      "        inequality constraints with only upper bounds:        0\n",
      "\n",
      "iter    objective    inf_pr   inf_du lg(mu)  ||d||  lg(rg) alpha_du alpha_pr  ls\n",
      "   0  0.0000000e+00 5.37e+00 0.00e+00   0.0 0.00e+00    -  0.00e+00 0.00e+00   0\n",
      "   1  4.7873663e+02 2.38e+00 7.23e+02   0.6 2.48e+01    -  5.83e-01 5.00e-01h  1\n",
      "   2  1.0370500e+03 1.33e+00 4.48e+02   0.6 1.77e+01    -  9.90e-01 4.32e-01h  1\n",
      "   3  1.2110626e+03 1.09e+00 3.96e+02   0.8 1.53e+01    -  6.74e-01 1.76e-01h  1\n",
      "   4  2.2147223e+03 2.73e-01 4.24e+02   0.8 1.32e+01    -  7.50e-01 8.62e-01h  1\n",
      "   5  2.3045630e+03 2.92e-02 1.66e+02   0.1 2.89e+00    -  9.88e-01 9.69e-01h  1\n",
      "   6  2.2998533e+03 9.76e-03 6.09e+01  -0.5 4.87e-01    -  9.99e-01 1.00e+00f  1\n",
      "   7  2.2965174e+03 3.21e-03 6.79e+00  -1.5 3.48e-01    -  9.98e-01 8.31e-01f  1\n",
      "   8  2.2954819e+03 3.12e-04 7.21e+00  -2.8 1.58e-01    -  9.99e-01 9.49e-01f  1\n",
      "   9  2.2953784e+03 2.29e-05 1.75e+00  -3.6 3.53e-02    -  1.00e+00 1.00e+00f  1\n",
      "iter    objective    inf_pr   inf_du lg(mu)  ||d||  lg(rg) alpha_du alpha_pr  ls\n",
      "  10  2.2953783e+03 2.02e-07 2.18e-01  -5.5 2.32e-03    -  1.00e+00 1.00e+00h  1\n",
      "  11  2.2953782e+03 4.96e-08 3.28e-04  -7.4 2.50e-03    -  1.00e+00 9.98e-01h  1\n",
      "  12  2.2953782e+03 1.77e-09 9.22e-05  -9.4 6.20e-04    -  1.00e+00 1.00e+00h  1\n",
      "  13  2.2953782e+03 2.80e-10 4.98e-05 -11.0 1.13e-04    -  1.00e+00 1.00e+00h  1\n",
      "  14  2.2953782e+03 1.06e-11 4.40e-06 -11.0 2.93e-05    -  1.00e+00 1.00e+00h  1\n",
      "  15  2.2953782e+03 1.50e-13 1.10e-06 -11.0 2.36e-06    -  1.00e+00 1.00e+00h  1\n",
      "\n",
      "Number of Iterations....: 15\n",
      "\n",
      "                                   (scaled)                 (unscaled)\n",
      "Objective...............:   2.2953782331865414e+03    2.2953782331865414e+03\n",
      "Dual infeasibility......:   1.1007660332452004e-06    1.1007660332452004e-06\n",
      "Constraint violation....:   1.4976908602193362e-13    1.4976908602193362e-13\n",
      "Variable bound violation:   2.9999356243592956e-07    2.9999356243592956e-07\n",
      "Complementarity.........:   1.0005180156693506e-11    1.0005180156693506e-11\n",
      "Overall NLP error.......:   7.7173125473814012e-07    1.1007660332452004e-06\n",
      "\n",
      "\n",
      "Number of objective function evaluations             = 16\n",
      "Number of objective gradient evaluations             = 16\n",
      "Number of equality constraint evaluations            = 16\n",
      "Number of inequality constraint evaluations          = 0\n",
      "Number of equality constraint Jacobian evaluations   = 16\n",
      "Number of inequality constraint Jacobian evaluations = 0\n",
      "Number of Lagrangian Hessian evaluations             = 0\n",
      "Total seconds in IPOPT                               = 54.584\n",
      "\n",
      "EXIT: Optimal Solution Found.\n"
     ]
    }
   ],
   "source": [
    "# Optimization Parameters\n",
    "h = 0.2 # 5 Hz\n",
    "nq = 9\n",
    "nx = nq*2     # number of state\n",
    "nu = 7     # number of controls\n",
    "Tfinal = 4.0 # final time\n",
    "Nt = Int(Tfinal/h)   # number of time steps\n",
    "thist = Array(range(0,h*(Nt-1), step=h));\n",
    "\n",
    "# Cost terms\n",
    "diagq = ones(nx)\n",
    "diagq[1:2] = diagq[1:2]*1 # position cost\n",
    "diagq[3:4] = diagq[3:4]*1 # lean angles cost\n",
    "\n",
    "# Cost matrices\n",
    "Q = diagm(diagq)\n",
    "Qf = 10*Q\n",
    "R = 0.5*diagm(ones(nu))\n",
    "\n",
    "xic = zeros(nx)\n",
    "xg = zeros(nx)\n",
    "\n",
    "# Indexing \n",
    "idx = create_idx(nx,nu,Nt);\n",
    "\n",
    "diff_type = :auto\n",
    "\n",
    "# Create warm start trajectory\n",
    "Xref = [zeros(nx) for i=1:Nt]\n",
    "Xfwd = collect(range(xic, [q; zeros(9)], length = 10))\n",
    "Xwall = [q; zeros(9)]\n",
    "Xbwd = collect(range([q; zeros(9)], xg, length = 10))\n",
    "for i=1:10\n",
    "    Xref[i] .= Xfwd[i]\n",
    "end\n",
    "\n",
    "for i=11:20\n",
    "    Xref[i] .= Xbwd[i-10]\n",
    "end\n",
    "Uref = [zeros(7) for i = 1:(Nt-1)];\n",
    "\n",
    "# Contact scheduling\n",
    "M1 = [1:10; 11:20]\n",
    "M2 = []\n",
    "J1 = [10]\n",
    "J2 = []\n",
    "\n",
    "# Models\n",
    "model1 = Ballbot_arms()\n",
    "model2 = Ballbot_wall(vec(l_end_eff_pos.v), vec(r_end_eff_pos.v))\n",
    "\n",
    "# Create params\n",
    "params = (xic = xic,\n",
    "          xg = xg,\n",
    "          xcgs = [q],\n",
    "          Xref = Xref,\n",
    "          Uref = Uref,\n",
    "          dt = h,\n",
    "          N = Nt,\n",
    "          idx = idx,\n",
    "          Q = Q,\n",
    "          R = R,\n",
    "          Qf = Qf,\n",
    "          M1 = M1, \n",
    "          M2 = M2,\n",
    "          J1 = J1, \n",
    "          J2 = J2,\n",
    "          model1 = model1,\n",
    "          model2 = model2,\n",
    "          nx = nx,\n",
    "          nu = nu\n",
    "          );\n",
    "\n",
    "# Primal bounds \n",
    "x_l = ones(idx.nz)\n",
    "x_u = ones(idx.nz)\n",
    "\n",
    "state_l = [\n",
    "    -2.0, -0.1, # limit the ballbot's movement\n",
    "    -0.349065850399, -0.349065850399, -3.15, # from manufacturer\n",
    "    -2.96705972839, -2.96705972839, # from manufacturer\n",
    "    -0.349065850399, -2.79252680319, # from manufacturer\n",
    "\n",
    "    -5.0, -5.0,\n",
    "    -1.0, -1.0, -1.0,\n",
    "    -3.0, -3.0,\n",
    "    -3.0, -3.0,\n",
    "    ]\n",
    "state_u = [\n",
    "    2.0, 0.1,\n",
    "    0.349065850399, 0.349065850399, 3.15,\n",
    "    2.96705972839, 2.96705972839,\n",
    "    2.79252680319, 0.349065850399,\n",
    "\n",
    "    5.0, 5.0,\n",
    "    1.0, 1.0, 1.0,\n",
    "    3.0, 3.0,\n",
    "    3.0, 3.0,\n",
    "    ]\n",
    "\n",
    "control_l = -30 * ones(7)\n",
    "control_u = 30 * ones(7)\n",
    "\n",
    "for i = 1:(Nt-1)\n",
    "    x_l[idx.x[i]] .= state_l\n",
    "    x_u[idx.x[i]] .= state_u\n",
    "    x_l[idx.u[i]] .= control_l\n",
    "    x_u[idx.u[i]] .= control_u\n",
    "end\n",
    "\n",
    "x_l[idx.x[end]] .= state_l\n",
    "x_u[idx.x[end]] .= state_u\n",
    "\n",
    "# Inequality constraint bounds (this is what we do when we have no inequality constraints)\n",
    "c_l = zeros(0)\n",
    "c_u = zeros(0)\n",
    "\n",
    "verbose=true\n",
    "\n",
    "z0 = zeros(idx.nz)\n",
    "for i in 1:(Nt-1)\n",
    "    z0[idx.x[i]] .= Xref[i]\n",
    "    z0[idx.u[i]] .= Uref[i]\n",
    "end\n",
    "z0[idx.x[end]] .= Xref[end];\n",
    "\n",
    "Z = fmincon(ballbot_cost,ballbot_equality_constraint,ballbot_inequality_constraint,\n",
    "                x_l,x_u,c_l,c_u,z0,params, diff_type;\n",
    "                tol = 1e-6, c_tol = 1e-6, max_iters = 100, verbose = verbose);\n"
   ]
  },
  {
   "cell_type": "code",
   "execution_count": 12,
   "metadata": {},
   "outputs": [
    {
     "name": "stderr",
     "output_type": "stream",
     "text": [
      "\u001b[36m\u001b[1m┌ \u001b[22m\u001b[39m\u001b[36m\u001b[1mInfo: \u001b[22m\u001b[39mMeshCat server started. You can open the visualizer by visiting the following URL in your browser:\n",
      "\u001b[36m\u001b[1m└ \u001b[22m\u001b[39mhttp://127.0.0.1:8704\n"
     ]
    },
    {
     "data": {
      "text/html": [
       "    <div style=\"height: 500px; width: 100%; overflow-x: auto; overflow-y: hidden; resize: both\">\n",
       "    <iframe src=\"http://127.0.0.1:8704\" style=\"width: 100%; height: 100%; border: none\"></iframe>\n",
       "    </div>\n"
      ],
      "text/plain": [
       "MeshCat.DisplayedVisualizer(MeshCat.CoreVisualizer(MeshCat.SceneTrees.SceneNode(nothing, nothing, Dict{String, Vector{UInt8}}(), nothing, Dict{String, MeshCat.SceneTrees.SceneNode}()), Set{Any}(), ip\"127.0.0.1\", 8704))"
      ]
     },
     "metadata": {},
     "output_type": "display_data"
    },
    {
     "data": {
      "text/plain": [
       "MeshCat Visualizer with path /meshcat/wall at http://127.0.0.1:8704"
      ]
     },
     "execution_count": 12,
     "metadata": {},
     "output_type": "execute_result"
    }
   ],
   "source": [
    "X = [Z[idx.x[i]] for i = 1:Nt]\n",
    "U = [Z[idx.u[i]] for i = 1:(Nt-1)];\n",
    "\n",
    "X1 = [SVector{9}(x[1:9]) for x in X];\n",
    "vis = Visualizer()\n",
    "display(render(vis))\n",
    "mvis = MechanismVisualizer(bb_arms.mech, URDFVisuals(urdf_arms), vis[\"ballbot\"])\n",
    "animation = mc.Animation(mvis, thist, X1)\n",
    "setanimation!(mvis, animation)\n",
    "\n",
    "box = HyperRectangle(Vec(-2.5, r_end_eff_pos.v[2], 0), Vec(5., 0.1, 5))\n",
    "setobject!(vis[\"wall\"], box)"
   ]
  }
 ],
 "metadata": {
  "kernelspec": {
   "display_name": "Julia 1.6.7",
   "language": "julia",
   "name": "julia-1.6"
  },
  "language_info": {
   "file_extension": ".jl",
   "mimetype": "application/julia",
   "name": "julia",
   "version": "1.6.7"
  },
  "vscode": {
   "interpreter": {
    "hash": "916dbcbb3f70747c44a77c7bcd40155683ae19c65e1c03b4aa3499c5328201f1"
   }
  }
 },
 "nbformat": 4,
 "nbformat_minor": 2
}

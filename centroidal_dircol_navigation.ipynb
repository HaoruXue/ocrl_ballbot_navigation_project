{
 "cells": [
  {
   "cell_type": "code",
   "execution_count": 2,
   "metadata": {
    "scrolled": true,
    "tags": []
   },
   "outputs": [
    {
     "name": "stderr",
     "output_type": "stream",
     "text": [
      "\u001b[32m\u001b[1m  Activating\u001b[22m\u001b[39m environment at `~/Documents/PhD/courses/16745_optimal_control_rl/project/ballbot_ocrl_navigation/Project.toml`\n"
     ]
    }
   ],
   "source": [
    "import Pkg; \n",
    "Pkg.activate(@__DIR__); \n",
    "Pkg.instantiate()"
   ]
  },
  {
   "cell_type": "code",
   "execution_count": 3,
   "metadata": {},
   "outputs": [
    {
     "data": {
      "application/vnd.webio.node+json": {
       "children": [],
       "instanceArgs": {
        "namespace": "html",
        "tag": "div"
       },
       "nodeType": "DOM",
       "props": {},
       "type": "node"
      },
      "text/html": [
       "<div style=\"padding: 1em; background-color: #f8d6da; border: 1px solid #f5c6cb; font-weight: bold;\">\n",
       "<p>The WebIO Jupyter extension was not detected. See the\n",
       "<a href=\"https://juliagizmos.github.io/WebIO.jl/latest/providers/ijulia/\" target=\"_blank\">\n",
       "    WebIO Jupyter integration documentation\n",
       "</a>\n",
       "for more information.\n",
       "</div>\n"
      ],
      "text/plain": [
       "WebIO._IJuliaInit()"
      ]
     },
     "metadata": {},
     "output_type": "display_data"
    }
   ],
   "source": [
    "using RigidBodyDynamics\n",
    "using LinearAlgebra\n",
    "using StaticArrays\n",
    "using MeshCat\n",
    "using MeshCatMechanisms\n",
    "using ForwardDiff\n",
    "using Plots\n",
    "using RobotDynamics\n",
    "using Ipopt\n",
    "using FileIO, JLD2\n",
    "using Colors\n",
    "\n",
    "import Random\n",
    "import ECOS\n",
    "import Convex as cvx\n",
    "import MathOptInterface as MOI\n",
    "import DifferentiableCollisions as dc\n",
    "import MeshCat as mc;"
   ]
  },
  {
   "cell_type": "code",
   "execution_count": 4,
   "metadata": {},
   "outputs": [
    {
     "data": {
      "text/plain": [
       "rk4 (generic function with 1 method)"
      ]
     },
     "execution_count": 4,
     "metadata": {},
     "output_type": "execute_result"
    }
   ],
   "source": [
    "include(joinpath(@__DIR__, \"utils\",\"fmincon.jl\"))\n",
    "include(joinpath(@__DIR__, \"utils\",\"ballbot_model.jl\"))"
   ]
  },
  {
   "cell_type": "markdown",
   "metadata": {},
   "source": [
    "## Load ballbot model"
   ]
  },
  {
   "cell_type": "code",
   "execution_count": 6,
   "metadata": {},
   "outputs": [
    {
     "data": {
      "text/plain": [
       "Ballbot{StateCache{Float64, TypeSortedCollections.TypeSortedCollection{Tuple{Vector{Joint{Float64, Prismatic{Float64}}}, Vector{Joint{Float64, Revolute{Float64}}}}, 2}}}(Spanning tree:\n",
       "Vertex: world (root)\n",
       "  Vertex: Link_Xtran, Edge: Joint_World_Xtran\n",
       "    Vertex: Link_Ytran, Edge: Joint_World_Ytran\n",
       "      Vertex: Link_Pitch, Edge: xAngle\n",
       "        Vertex: Link_Roll, Edge: yAngle\n",
       "          Vertex: Link_Yaw, Edge: yaw\n",
       "            Vertex: RArm1, Edge: JRA1\n",
       "              Vertex: RArm2, Edge: JRA2\n",
       "                Vertex: RArm3, Edge: JRA3\n",
       "                  Vertex: RArm4, Edge: JRA4\n",
       "                    Vertex: RArm5, Edge: JRA5\n",
       "                      Vertex: RArm6, Edge: JRA6\n",
       "                        Vertex: RArm7, Edge: JRA7\n",
       "            Vertex: LArm1, Edge: JLA1\n",
       "              Vertex: LArm2, Edge: JLA2\n",
       "                Vertex: LArm3, Edge: JLA3\n",
       "                  Vertex: LArm4, Edge: JLA4\n",
       "                    Vertex: LArm5, Edge: JLA5\n",
       "                      Vertex: LArm6, Edge: JLA6\n",
       "                        Vertex: LArm7, Edge: JLA7\n",
       "No non-tree joints., StateCache{…}(…), DynamicsResultCache{Float64}(…), [0.0, 0.0, 0.0, 0.0, 0.0, 0.0, 0.0, 0.0, 0.0, 0.0  …  0.0, 0.0, 0.0, 0.0, 0.0, 0.0, 0.0, 0.0, 0.0, 0.0])"
      ]
     },
     "execution_count": 6,
     "metadata": {},
     "output_type": "execute_result"
    }
   ],
   "source": [
    "ballbot = Ballbot_arms()"
   ]
  },
  {
   "cell_type": "code",
   "execution_count": 7,
   "metadata": {},
   "outputs": [
    {
     "data": {
      "text/plain": [
       "MechanismState{Float32, Float64, Float64, …}(…)"
      ]
     },
     "execution_count": 7,
     "metadata": {},
     "output_type": "execute_result"
    }
   ],
   "source": [
    "state = ballbot.statecache[Float32]"
   ]
  },
  {
   "cell_type": "code",
   "execution_count": 8,
   "metadata": {},
   "outputs": [
    {
     "name": "stdout",
     "output_type": "stream",
     "text": [
      "r_end_eff_pos = Point3D in \"world\": [0.27577000521726047, -0.07634999635039783, 1.0399079977325498]\n",
      "l_end_eff_pos = Point3D in \"world\": [-0.2757700113342824, -0.07634998445254329, 1.0399079915443918]\n"
     ]
    },
    {
     "data": {
      "text/plain": [
       "Point3D in \"world\": [-0.2757700113342824, -0.07634998445254329, 1.0399079915443918]"
      ]
     },
     "execution_count": 8,
     "metadata": {},
     "output_type": "execute_result"
    }
   ],
   "source": [
    "world = RigidBodyDynamics.findbody(ballbot.mech, \"world\")\n",
    "\n",
    "right_end = RigidBodyDynamics.findbody(ballbot.mech, \"RArm4\")\n",
    "right_end_tf = RigidBodyDynamics.frame_definitions(right_end)[end].from\n",
    "r_end_eff_pos = transform(state, Point3D(right_end_tf, zero(SVector{3})), default_frame(world))\n",
    "\n",
    "left_end = RigidBodyDynamics.findbody(ballbot.mech, \"LArm4\")\n",
    "left_end_tf = RigidBodyDynamics.frame_definitions(left_end)[end].from\n",
    "l_end_eff_pos = transform(state, Point3D(left_end_tf, zero(SVector{3})), default_frame(world))\n",
    "\n",
    "@show r_end_eff_pos\n",
    "@show l_end_eff_pos"
   ]
  },
  {
   "cell_type": "code",
   "execution_count": 9,
   "metadata": {},
   "outputs": [
    {
     "data": {
      "text/plain": [
       "get_endeffector_poses (generic function with 1 method)"
      ]
     },
     "execution_count": 9,
     "metadata": {},
     "output_type": "execute_result"
    }
   ],
   "source": [
    "function get_endeffector_poses(model::Ballbot, q::AbstractVector{T}) where {T} \n",
    "    state = model.statecache[T]\n",
    "    # Convert from state ordering to the ordering of the mechanism\n",
    "    #set_configuration!(state, q)\n",
    "    copyto!(state.q, q)\n",
    "    r_end_eff_pos = transform(state, Point3D(right_end_tf, zero(SVector{3})), default_frame(world))\n",
    "    l_end_eff_pos = transform(state, Point3D(left_end_tf, zero(SVector{3})), default_frame(world))\n",
    "    return r_end_eff_pos.v, l_end_eff_pos.v\n",
    "end"
   ]
  },
  {
   "cell_type": "code",
   "execution_count": 10,
   "metadata": {},
   "outputs": [
    {
     "data": {
      "text/plain": [
       "([0.27577000521726047, -0.07634999635039783, 1.0399079977325498], [-0.2757700113342824, -0.07634998445254329, 1.0399079915443918])"
      ]
     },
     "execution_count": 10,
     "metadata": {},
     "output_type": "execute_result"
    }
   ],
   "source": [
    "get_endeffector_poses(ballbot, zeros(19))"
   ]
  },
  {
   "cell_type": "code",
   "execution_count": 11,
   "metadata": {},
   "outputs": [
    {
     "data": {
      "text/plain": [
       "-1.5708"
      ]
     },
     "execution_count": 11,
     "metadata": {},
     "output_type": "execute_result"
    }
   ],
   "source": [
    "q = zeros(9)\n",
    "q[1] = 0 # move to a distance\n",
    "q[3] = 0 # lean forward\n",
    "q[6] = 0.785 # right shoulder\n",
    "q[7] = -0.785 # left shoulder\n",
    "q[8] = 1.5708 # right elbow 90 deg\n",
    "q[9] = -1.5708 # left elbow 90 deg"
   ]
  },
  {
   "cell_type": "code",
   "execution_count": 14,
   "metadata": {},
   "outputs": [
    {
     "data": {
      "text/plain": [
       "([0.27577000521726047, -0.07634999635039783, 1.0399079977325498], [-0.2757700113342824, -0.07634998445254329, 1.0399079915443918])"
      ]
     },
     "execution_count": 14,
     "metadata": {},
     "output_type": "execute_result"
    }
   ],
   "source": [
    "ree_pos, lee_pos = get_endeffector_poses(ballbot, q)"
   ]
  },
  {
   "cell_type": "code",
   "execution_count": 15,
   "metadata": {},
   "outputs": [
    {
     "data": {
      "text/plain": [
       "momentum_function (generic function with 1 method)"
      ]
     },
     "execution_count": 15,
     "metadata": {},
     "output_type": "execute_result"
    }
   ],
   "source": [
    "function momentum_function(model::Ballbot, q::AbstractVector{T}) where {T} \n",
    "    state = model.statecache[T]\n",
    "    res = model.dyncache[T]\n",
    "    # Convert from state ordering to the ordering of the mechanism\n",
    "    copyto!(state.q, q)\n",
    "    #set_configuration!(state, q)\n",
    "    out = momentum_matrix(state)\n",
    "    return out.angular\n",
    "end"
   ]
  },
  {
   "cell_type": "code",
   "execution_count": 16,
   "metadata": {},
   "outputs": [
    {
     "data": {
      "text/plain": [
       "com_function (generic function with 1 method)"
      ]
     },
     "execution_count": 16,
     "metadata": {},
     "output_type": "execute_result"
    }
   ],
   "source": [
    "function com_function(model::Ballbot, q::AbstractVector{T}) where {T} \n",
    "    state = model.statecache[T]\n",
    "    res = model.dyncache[T]\n",
    "    #out = model.momentum_m\n",
    "    # Convert from state ordering to the ordering of the mechanism\n",
    "    copyto!(state.q, q)\n",
    "    #set_configuration!(state, q)\n",
    "    out = center_of_mass(state)\n",
    "    return out.v\n",
    "end"
   ]
  },
  {
   "cell_type": "code",
   "execution_count": 17,
   "metadata": {},
   "outputs": [
    {
     "data": {
      "text/plain": [
       "skew (generic function with 1 method)"
      ]
     },
     "execution_count": 17,
     "metadata": {},
     "output_type": "execute_result"
    }
   ],
   "source": [
    "function skew(ω::Vector{T}) where {T}\n",
    "    return [0 -ω[3] ω[2];\n",
    "            ω[3] 0 -ω[1];\n",
    "            -ω[2] ω[1] 0]\n",
    "end"
   ]
  },
  {
   "cell_type": "code",
   "execution_count": 18,
   "metadata": {},
   "outputs": [
    {
     "data": {
      "text/plain": [
       "create_idx (generic function with 1 method)"
      ]
     },
     "execution_count": 18,
     "metadata": {},
     "output_type": "execute_result"
    }
   ],
   "source": [
    "function create_idx(nq,N) \n",
    "    nq̇ = nq̈ = nq\n",
    "    nh = nḣ = nr = nṙ = nr̈ = nF = nτ = 3\n",
    "   \n",
    "    # Our Z vector is [x0, u0, x1, u1, …, xN]\n",
    "    nzi = nq + nq̇ + nq̈ + nr + nṙ + nr̈ + nh + nḣ + nF + nτ\n",
    "    nz = N * nzi\n",
    "    \n",
    "    q = [(i - 1) * nzi .+ (1 : nq) for i = 1:N]\n",
    "    q̇ = [(i - 1) * nzi .+ ((nq + 1) : (2*nq)) for i = 1:N]\n",
    "    q̈ = [(i - 1) * nzi .+ ((2*nq + 1) : (3*nq)) for i = 1:N]\n",
    "    r = [(i - 1) * nzi .+ ((3*nq + 1) : (3*nq + nr)) for i = 1:N]\n",
    "    ṙ = [(i - 1) * nzi .+ ((3*nq + nr + 1) : (3*nq + 2*nr)) for i = 1:N]\n",
    "    r̈ = [(i - 1) * nzi .+ ((3*nq + 2*nr + 1) : (3*nq + 3*nr)) for i = 1:N]\n",
    "    h = [(i - 1) * nzi .+ ((3*nq + 3*nr + 1) : (3*nq + 3*nr + nh)) for i = 1:N]\n",
    "    ḣ = [(i - 1) * nzi .+ ((3*nq + 3*nr + nh + 1) : (3*nq + 3*nr + 2*nh)) for i = 1:N]\n",
    "    F = [(i - 1) * nzi .+ ((3*nq + 3*nr + 2*nh + 1) : (3*nq + 3*nr + 2*nh + nF)) for i = 1:N]\n",
    "    τ = [(i - 1) * nzi .+ ((3*nq + 3*nr + 2*nh + nF + 1) : (3*nq + 3*nr + 2*nh + nF + nτ)) for i = 1:N]\n",
    "    \n",
    "    # Constraint indexing when stacked up   \n",
    "    nci = nr̈ + nh + nḣ + nh + nr + nṙ + nr + nq + nq̇\n",
    "          \n",
    "    dcr̈ = [(i - 1) * (nci) .+ (1 : nr̈) for i = 1:N]\n",
    "    dch = [(i - 1) * (nci) .+ ((nr̈ + 1) : (nr̈ + nh)) for i = 1:N]\n",
    "    dcḣ = [(i - 1) * (nci) .+ ((nr̈ + nh + 1) : (nr̈ + 2*nh)) for i = 1:N]\n",
    "    jcr = [(i - 1) * (nci) .+ ((nr̈ + 2*nh + 1) : (2*nr̈ + 2*nh)) for i = 1:N]\n",
    "    \n",
    "    cch = [(i - 1) * (nci) .+ ((2*nr̈ + 2*nh + 1) : (2*nr̈ + 3*nh)) for i = 1:(N - 1)]\n",
    "    ccr = [(i - 1) * (nci) .+ ((2*nr̈ + 3*nh + 1) : (3*nr̈ + 3*nh)) for i = 1:(N - 1)]\n",
    "    ccṙ = [(i - 1) * (nci) .+ ((3*nr̈ + 3*nh + 1) : (4*nr̈ + 3*nh)) for i = 1:(N - 1)]\n",
    "    ccq = [(i - 1) * (nci) .+ ((4*nr̈ + 3*nh + 1) : (4*nr̈ + 3*nh + nq)) for i = 1:(N - 1)]\n",
    "    ccq̇ = [(i - 1) * (nci) .+ ((4*nr̈ + 3*nh + nq + 1) : (4*nr̈ + 3*nh + 2*nq)) for i = 1:(N - 1)]\n",
    "    \n",
    "    nciter = nci * (N - 1) + (nr + nr̈ + nh + nḣ)\n",
    "    ncfix = nq + nq + nq̇ + nq̈ + nḣ + nh\n",
    "    println(nciter)\n",
    "    \n",
    "    icq = nciter .+ (1 : nq)\n",
    "    gcq = nciter .+ ((nq + 1) : (2*nq))\n",
    "    icq̇ = nciter .+ ((2*nq + 1) : (3*nq))\n",
    "    icq̈ = nciter .+ ((3*nq + 1) : (4*nq))\n",
    "    gcḣ = nciter .+ ((4*nq + 1) : (4*nq + nh))\n",
    "    gch = nciter .+ ((4*nq + nh + 1) : (4*nq + 2*nh))\n",
    "    \n",
    "    nc = nciter + ncfix\n",
    "   \n",
    "    return (q=q,q̇=q̇,q̈=q̈,r=r,ṙ=ṙ,r̈=r̈,h=h,ḣ=ḣ,F=F,τ=τ,\n",
    "            dcr̈=dcr̈,dch=dch,dcḣ=dcḣ,cch=cch,ccr=ccr,ccṙ=ccṙ,jcr=jcr,ccq=ccq,ccq̇=ccq̇,\n",
    "            icq=icq,gcq=gcq,icq̇=icq̇,icq̈=icq̈,gcḣ=gcḣ,\n",
    "            nzi=nzi,N=N,nz=nz,nc=nc,nq=nq,nq̇=nq̇,nq̈=nq̈,nr=nr,nṙ=nṙ,nr̈=nr̈,nh=nh,nḣ=nḣ,nF=nF,nτ=nτ,gch=gch)\n",
    "end"
   ]
  },
  {
   "cell_type": "code",
   "execution_count": 19,
   "metadata": {},
   "outputs": [
    {
     "data": {
      "text/plain": [
       "centroidal_equality_constraints (generic function with 1 method)"
      ]
     },
     "execution_count": 19,
     "metadata": {},
     "output_type": "execute_result"
    }
   ],
   "source": [
    "function centroidal_equality_constraints(params::NamedTuple, Z::Vector)::Vector\n",
    "    idx, N, dt = params.idx, params.N, params.dt\n",
    "    qic, qgoal, q̇ic, q̈ic = params.qic, params.qgoal, params.q̇ic, params.q̈ic\n",
    "    g, m = params.g, params.m\n",
    "    model = params.model\n",
    "    \n",
    "    c = zeros(eltype(Z), idx.nc)\n",
    "    #println(\"init\")\n",
    "    for i = 2:N\n",
    "        #println(\"Configuration and derivatives\")\n",
    "        # Configuration and derivatives\n",
    "        qi = Z[idx.q[i]]\n",
    "        q̇i = Z[idx.q̇[i]]\n",
    "        q̈i = Z[idx.q̈[i]]\n",
    "        qimn = Z[idx.q[i-1]]\n",
    "        q̇imn = Z[idx.q̇[i-1]]\n",
    "        q̈imn = Z[idx.q̈[i-1]]\n",
    "        #println(\"COM and derivatives\")\n",
    "        # COM and derivatives\n",
    "        ri = Z[idx.r[i]]\n",
    "        ṙi = Z[idx.ṙ[i]]\n",
    "        r̈i = Z[idx.r̈[i]]\n",
    "        rimn = Z[idx.r[i-1]]\n",
    "        ṙimn = Z[idx.ṙ[i-1]]\n",
    "        #println(\"Angular momentum and derivative\")\n",
    "        # Angular momentum and derivative\n",
    "        hi = Z[idx.h[i]]\n",
    "        ḣi = Z[idx.ḣ[i]]\n",
    "        himn = Z[idx.h[i-1]]\n",
    "        ḣimn = Z[idx.ḣ[i-1]]\n",
    "        #println(\"Contact point, force and torque\")\n",
    "        # Contact point, force and torque\n",
    "        ci = [qi[1:2]; 0]\n",
    "        Fi = Z[idx.F[i]]\n",
    "        τi = Z[idx.τ[i]] \n",
    "        \n",
    "        #println(\"Centroidal dynamics\")\n",
    "        #println(\"N: \", i)\n",
    "        # Centroidal dynamics\n",
    "        #println(\"Centroidal dynamics: 1\")\n",
    "        c[idx.dcr̈[i]] .= Fi + m*g - m*r̈i\n",
    "        #println(\"Centroidal dynamics: 2\")\n",
    "        c[idx.dcḣ[i]] .= skew(ci-ri)*Fi + τi - ḣi\n",
    "        #println(\"Centroidal dynamics: 3\")\n",
    "        c[idx.dch[i]] .= momentum_function(model, qi)*q̇i - hi\n",
    "        #println(\"Collocation constraints\")\n",
    "        \n",
    "        # Collocation constraints\n",
    "        c[idx.ccq[i-1]] .= qi - qimn - q̇i*dt\n",
    "        c[idx.ccq̇[i-1]] .= q̇i - q̇imn - q̈i*dt\n",
    "        c[idx.cch[i-1]] .= hi - himn - ḣi*dt\n",
    "        c[idx.ccr[i-1]] .= ri - rimn - (ṙi + ṙimn)*dt/2\n",
    "        c[idx.ccṙ[i-1]] .= ṙi - ṙimn - r̈i*dt\n",
    "        #println(\"Joint configuration constraint\")\n",
    "        \n",
    "        # Joint configuration constraint\n",
    "        c[idx.jcr[i]] .= com_function(model, qi) - ri\n",
    "    #println(\"Initial and goal constraints\")\n",
    "    \n",
    "    c1 = [Z[idx.q[1]][1]; Z[idx.q[1]][2]; 0]\n",
    "    c[idx.dcr̈[1]] .= Z[idx.F[1]] + m*g - m*Z[idx.r̈[1]]\n",
    "    c[idx.dcḣ[1]] .= skew(c1-Z[idx.r[1]])*Z[idx.F[1]] + Z[idx.τ[1]] - Z[idx.ḣ[1]]\n",
    "    c[idx.dch[1]] .= momentum_function(model, Z[idx.q[1]])*Z[idx.q̇[1]] - Z[idx.h[1]]\n",
    "    c[idx.jcr[1]] .= com_function(model, Z[idx.q[1]]) - Z[idx.r[1]]\n",
    "        \n",
    "    # Initial and goal constraints\n",
    "    c[idx.icq] .= qic - Z[idx.q[1]]\n",
    "    c[idx.gcq] .= qgoal - Z[idx.q[end]] \n",
    "    c[idx.icq̇] .= q̇ic - Z[idx.q̇[1]]\n",
    "    c[idx.icq̈] .= q̈ic - Z[idx.q̈[1]]\n",
    "    c[idx.gch] .= Z[idx.h[end]]\n",
    "    c[idx.gcḣ] .= Z[idx.ḣ[end]]\n",
    "    end\n",
    "    return c\n",
    "end"
   ]
  },
  {
   "cell_type": "code",
   "execution_count": 20,
   "metadata": {},
   "outputs": [
    {
     "data": {
      "text/plain": [
       "centroidal_inequality_constraint (generic function with 1 method)"
      ]
     },
     "execution_count": 20,
     "metadata": {},
     "output_type": "execute_result"
    }
   ],
   "source": [
    "function centroidal_inequality_constraint(params, Z)\n",
    "    return zeros(eltype(Z), 0)\n",
    "end"
   ]
  },
  {
   "cell_type": "code",
   "execution_count": 21,
   "metadata": {},
   "outputs": [
    {
     "data": {
      "text/plain": [
       "Spanning tree:\n",
       "Vertex: world (root)\n",
       "  Vertex: Link_Xtran, Edge: Joint_World_Xtran\n",
       "    Vertex: Link_Ytran, Edge: Joint_World_Ytran\n",
       "      Vertex: Link_Pitch, Edge: xAngle\n",
       "        Vertex: Link_Roll, Edge: yAngle\n",
       "          Vertex: Link_Yaw, Edge: yaw\n",
       "            Vertex: RArm1, Edge: JRA1\n",
       "              Vertex: RArm2, Edge: JRA2\n",
       "                Vertex: RArm3, Edge: JRA3\n",
       "                  Vertex: RArm4, Edge: JRA4\n",
       "                    Vertex: RArm5, Edge: JRA5\n",
       "                      Vertex: RArm6, Edge: JRA6\n",
       "                        Vertex: RArm7, Edge: JRA7\n",
       "            Vertex: LArm1, Edge: JLA1\n",
       "              Vertex: LArm2, Edge: JLA2\n",
       "                Vertex: LArm3, Edge: JLA3\n",
       "                  Vertex: LArm4, Edge: JLA4\n",
       "                    Vertex: LArm5, Edge: JLA5\n",
       "                      Vertex: LArm6, Edge: JLA6\n",
       "                        Vertex: LArm7, Edge: JLA7\n",
       "No non-tree joints."
      ]
     },
     "execution_count": 21,
     "metadata": {},
     "output_type": "execute_result"
    }
   ],
   "source": [
    "ballbot.mech"
   ]
  },
  {
   "cell_type": "markdown",
   "metadata": {},
   "source": [
    "## Start visualizer"
   ]
  },
  {
   "cell_type": "code",
   "execution_count": null,
   "metadata": {},
   "outputs": [],
   "source": [
    "# Initialize visualizer\n",
    "# Create visualizer for ballbot\n",
    "#delete!(vis)\n",
    "mvis = MechanismVisualizer(ballbot.mech, URDFVisuals(urdf))"
   ]
  },
  {
   "cell_type": "markdown",
   "metadata": {
    "scrolled": true
   },
   "source": [
    "## Trajectory optimization"
   ]
  },
  {
   "cell_type": "markdown",
   "metadata": {},
   "source": [
    "## Move from point A to point B"
   ]
  },
  {
   "cell_type": "code",
   "execution_count": 22,
   "metadata": {},
   "outputs": [
    {
     "name": "stdout",
     "output_type": "stream",
     "text": [
      "1192\n"
     ]
    },
    {
     "data": {
      "text/plain": [
       ":auto"
      ]
     },
     "execution_count": 22,
     "metadata": {},
     "output_type": "execute_result"
    }
   ],
   "source": [
    "# Optimization Parameters\n",
    "h = 0.1 #10 Hz\n",
    "nq = 19\n",
    "Tfinal = 2 # final time\n",
    "Nt = Int(Tfinal/h)+1   # number of time steps\n",
    "thist = Array(range(0,h*(Nt-1), step=h));\n",
    "\n",
    "# Indexing \n",
    "idx = create_idx(nq,Nt);\n",
    "\n",
    "n_nlp = idx.nz\n",
    "m_nlp = idx.nc\n",
    "\n",
    "# Cost matrices\n",
    "Qeer = 100*Diagonal(ones(idx.nr))\n",
    "Qeel = 100*Diagonal(ones(idx.nr))\n",
    "Qb = 100*Diagonal(ones(2))\n",
    "Qcom = Diagonal(ones(2))\n",
    "Qḣ = Diagonal(ones(idx.nḣ))\n",
    "Qq̈ = 10*Diagonal(ones(idx.nq̈))\n",
    "\n",
    "diff_type = :auto"
   ]
  },
  {
   "cell_type": "code",
   "execution_count": 23,
   "metadata": {},
   "outputs": [],
   "source": [
    "# Create warm start trajectory\n",
    "qic = zeros(nq)\n",
    "qgoal = zeros(nq)\n",
    "q̇ic = zeros(nq) \n",
    "q̈ic = zeros(nq)\n",
    "\n",
    "qgoal[1] = 0.1\n",
    "qgoal[2] = 0.1\n",
    "\n",
    "#set_configuration!(ballbot.statecache[Float32], qic)\n",
    "\n",
    "\n",
    "ball_ref = range(qic[1:2], qgoal[1:2], length = Nt) \n",
    "#ee_right_ref = [0.6672199882477828, -0.058433993692510657, 1.3880790779692234] \n",
    "#ee_left_ref = [-0.667219994435301, -0.05843398960535944, 1.3880790907086575]\n",
    "\n",
    "#ee_right_ref[1] = ee_right_ref[1] + qgoal[1]\n",
    "#ee_right_ref[2] = ee_right_ref[2] + qgoal[2];"
   ]
  },
  {
   "cell_type": "code",
   "execution_count": 24,
   "metadata": {},
   "outputs": [],
   "source": [
    "m = mass(ballbot.mech)\n",
    "g = [0.0, 0.0, -9.81];"
   ]
  },
  {
   "cell_type": "code",
   "execution_count": 25,
   "metadata": {},
   "outputs": [],
   "source": [
    "# Create params\n",
    "params = (dt = h,\n",
    "          N = Nt,\n",
    "          idx = idx,\n",
    "          g = g, \n",
    "          m = m,\n",
    "          model = ballbot,\n",
    "          Qeer = Qeer,\n",
    "          Qeel = Qeel,\n",
    "          Qb = Qb,\n",
    "          Qcom = Qcom,\n",
    "          Qḣ = Qḣ,\n",
    "          Qq̈ = Qq̈,\n",
    "          qic = qic,\n",
    "          qgoal = qgoal,\n",
    "          q̇ic = q̇ic, \n",
    "          q̈ic = q̈ic,\n",
    "          ball_ref = ball_ref); \n",
    "#          ee_right_ref = ee_right_ref,\n",
    "#          ee_left_ref = ee_left_ref);"
   ]
  },
  {
   "cell_type": "code",
   "execution_count": 26,
   "metadata": {},
   "outputs": [
    {
     "data": {
      "text/plain": [
       "true"
      ]
     },
     "execution_count": 26,
     "metadata": {},
     "output_type": "execute_result"
    }
   ],
   "source": [
    "# Primal bounds \n",
    "x_l = ones(idx.nz)\n",
    "x_u = ones(idx.nz)\n",
    "\n",
    "for i = 1:(Nt)\n",
    "    x_l[idx.q[i]] .= -Inf*x_l[idx.q[i]]\n",
    "    #x_l[idx.q[i]][3:4] .= -0.8\n",
    "    x_u[idx.q[i]] .= Inf*x_u[idx.q[i]]\n",
    "    #x_u[idx.q[i]][3:4] .= 0.8\n",
    "end\n",
    "\n",
    "# Inequality constraint bounds (this is what we do when we have no inequality constraints)\n",
    "c_l = zeros(0)\n",
    "c_u = zeros(0)\n",
    "\n",
    "verbose=true"
   ]
  },
  {
   "cell_type": "code",
   "execution_count": 27,
   "metadata": {},
   "outputs": [],
   "source": [
    "z0 = zeros(idx.nz)\n",
    "for i in 1:(Nt)\n",
    "    z0[idx.q[i]] .= [ball_ref[i]; zeros(17)]\n",
    "end"
   ]
  },
  {
   "cell_type": "code",
   "execution_count": 28,
   "metadata": {},
   "outputs": [
    {
     "data": {
      "text/plain": [
       "centroidal_cost (generic function with 1 method)"
      ]
     },
     "execution_count": 28,
     "metadata": {},
     "output_type": "execute_result"
    }
   ],
   "source": [
    "function centroidal_cost(params::NamedTuple, Z::Vector)::Real\n",
    "    idx, N = params.idx, params.N \n",
    "    # Stage cost\n",
    "    J = 0 \n",
    "    for i = 1:(N)\n",
    "        qi = Z[idx.q[i]]\n",
    "        ri = Z[idx.r[i]]\n",
    "        ḣi = Z[idx.ḣ[i]]\n",
    "        q̈i = Z[idx.q̈[i]]\n",
    "        J += stage_cost(params, qi, ri, ḣi, q̈i, i)\n",
    "    end\n",
    "    return J \n",
    "end"
   ]
  },
  {
   "cell_type": "code",
   "execution_count": null,
   "metadata": {},
   "outputs": [],
   "source": [
    "function stage_cost(params,qi,ri,ḣi,q̈i,k)\n",
    "    ball_ref = params.ball_ref\n",
    "    #ee_right_ref, ee_left_ref = params.ee_right_ref, params.ee_left_ref\n",
    "    Qeer, Qeel, Qb, Qcom, Qḣ, Qq̈ = params.Qeer, params.Qeel, params.Qb, params.Qcom, params.Qḣ, params.Qq̈\n",
    "    model = params.model\n",
    "    \n",
    "    ps = qi[1:2] \n",
    "    ps_com = ri[1:2]\n",
    "    #ree_pos, lee_pos = get_endeffector_poses(model, qi)\n",
    "    return 0.5*((ps-ball_ref[k])'*Qb*(ps-ball_ref[k])) + 0.5*((ps-ps_com)'*Qcom*(ps-ps_com)) \n",
    "         + 0.5*(ḣi'*Qḣ*ḣi) + 0.5*(q̈i'*Qq̈*q̈i) #+ 0.5*(ree_pos'*Qeer*ree_pos) + 0.5*(lee_pos'*Qeel*lee_pos)\n",
    "end"
   ]
  },
  {
   "cell_type": "code",
   "execution_count": null,
   "metadata": {},
   "outputs": [],
   "source": [
    "Z = fmincon(centroidal_cost,centroidal_equality_constraints,centroidal_inequality_constraint,\n",
    "                x_l,x_u,c_l,c_u,z0,params, diff_type;\n",
    "                tol = 1e-6, c_tol = 1e-6, max_iters = 10_000, verbose = verbose);"
   ]
  },
  {
   "cell_type": "code",
   "execution_count": null,
   "metadata": {},
   "outputs": [],
   "source": [
    "#FileIO.save(\"utils/ballbot_centroidal_z.jld2\",\"centroidal_z\", Z)"
   ]
  },
  {
   "cell_type": "code",
   "execution_count": null,
   "metadata": {},
   "outputs": [],
   "source": [
    "qsol = [Z[idx.q[i]] for i = 1:Nt];"
   ]
  },
  {
   "cell_type": "code",
   "execution_count": null,
   "metadata": {},
   "outputs": [],
   "source": [
    "q̇sol = [Z[idx.q̇[i]] for i = 1:Nt];"
   ]
  },
  {
   "cell_type": "code",
   "execution_count": null,
   "metadata": {},
   "outputs": [],
   "source": [
    "qm = hcat(qsol...)\n",
    "q̇m = hcat(q̇sol...);"
   ]
  },
  {
   "cell_type": "code",
   "execution_count": null,
   "metadata": {},
   "outputs": [],
   "source": [
    "plot(thist,qm[1,:])\n",
    "plot!(thist,qm[2,:])"
   ]
  },
  {
   "cell_type": "code",
   "execution_count": null,
   "metadata": {},
   "outputs": [],
   "source": [
    "plot(thist,qm[3,:])\n",
    "plot!(thist,qm[4,:])"
   ]
  },
  {
   "cell_type": "code",
   "execution_count": null,
   "metadata": {},
   "outputs": [],
   "source": [
    "plot(thist,qm[5,:])"
   ]
  },
  {
   "cell_type": "code",
   "execution_count": null,
   "metadata": {},
   "outputs": [],
   "source": [
    "plot(thist,q̇m[1,:])\n",
    "plot!(thist,q̇m[2,:])"
   ]
  },
  {
   "cell_type": "code",
   "execution_count": null,
   "metadata": {},
   "outputs": [],
   "source": [
    "plot(thist,q̇m[3,:])\n",
    "plot!(thist,q̇m[4,:])"
   ]
  },
  {
   "cell_type": "code",
   "execution_count": null,
   "metadata": {},
   "outputs": [],
   "source": [
    "plot(thist,q̇m[5,:])"
   ]
  },
  {
   "cell_type": "code",
   "execution_count": null,
   "metadata": {},
   "outputs": [],
   "source": [
    "qsim = [SVector{19}(qi) for qi in qsol];"
   ]
  },
  {
   "cell_type": "code",
   "execution_count": null,
   "metadata": {},
   "outputs": [],
   "source": [
    "# Uncomment for upload animation to visualizer\n",
    "animation = mc.Animation(mvis, thist, qsim)\n",
    "setanimation!(mvis, animation)"
   ]
  },
  {
   "cell_type": "code",
   "execution_count": null,
   "metadata": {},
   "outputs": [],
   "source": [
    "mvis"
   ]
  },
  {
   "cell_type": "code",
   "execution_count": null,
   "metadata": {},
   "outputs": [],
   "source": []
  }
 ],
 "metadata": {
  "kernelspec": {
   "display_name": "Julia 1.6.7",
   "language": "julia",
   "name": "julia-1.6"
  },
  "language_info": {
   "file_extension": ".jl",
   "mimetype": "application/julia",
   "name": "julia",
   "version": "1.6.7"
  }
 },
 "nbformat": 4,
 "nbformat_minor": 4
}
